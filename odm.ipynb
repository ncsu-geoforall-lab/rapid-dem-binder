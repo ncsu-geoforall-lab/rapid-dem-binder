{
 "cells": [
  {
   "cell_type": "markdown",
   "id": "2c0be9e9-8853-4d3b-935e-c74f94191032",
   "metadata": {},
   "source": [
    "# OpenDroneMap"
   ]
  },
  {
   "cell_type": "markdown",
   "id": "93692e62-af83-4767-be1f-a8d13005e242",
   "metadata": {},
   "source": [
    "An ODM implementation of the development of orthophotos, DEM, and DSM used to process Site 1 UAS data.\n",
    "\n",
    "ODM Documentation: https://pyodm.readthedocs.io/en/latest/"
   ]
  },
  {
   "cell_type": "code",
   "execution_count": null,
   "id": "564355eb-c448-4dc8-a0ad-c15f1a71a2f2",
   "metadata": {},
   "outputs": [],
   "source": [
    "import os\n",
    "from pyodm import Node"
   ]
  },
  {
   "cell_type": "code",
   "execution_count": null,
   "id": "b9d9fd84-c2eb-4799-8be1-e193c4c2e433",
   "metadata": {},
   "outputs": [],
   "source": [
    "n = Node('localhost', 3000)\n",
    "task = n.create_task(['examples/images/image_1.jpg', 'examples/images/image_2.jpg'], {'dsm': True})\n",
    "task.wait_for_completion()\n",
    "os.listdir(task.download_assets(\"results\"))[0:2]"
   ]
  }
 ],
 "metadata": {
  "kernelspec": {
   "display_name": "Python 3",
   "language": "python",
   "name": "python3"
  },
  "language_info": {
   "codemirror_mode": {
    "name": "ipython",
    "version": 3
   },
   "file_extension": ".py",
   "mimetype": "text/x-python",
   "name": "python",
   "nbconvert_exporter": "python",
   "pygments_lexer": "ipython3",
   "version": "3.8.10"
  }
 },
 "nbformat": 4,
 "nbformat_minor": 5
}
